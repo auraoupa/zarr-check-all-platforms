{
 "cells": [
  {
   "cell_type": "code",
   "execution_count": 15,
   "metadata": {},
   "outputs": [
    {
     "name": "stderr",
     "output_type": "stream",
     "text": [
      "distributed.scheduler - INFO - Clear task state\n",
      "distributed.scheduler - INFO -   Scheduler at:   tcp://10.32.16.73:37389\n",
      "distributed.scheduler - INFO -   dashboard at:                     :8787\n"
     ]
    },
    {
     "data": {
      "application/vnd.jupyter.widget-view+json": {
       "model_id": "fb628cd96c6f4dbeaefd0540cecac050",
       "version_major": 2,
       "version_minor": 0
      },
      "text/plain": [
       "VBox(children=(HTML(value='<h2>KubeCluster</h2>'), HBox(children=(HTML(value='\\n<div>\\n  <style scoped>\\n    .…"
      ]
     },
     "metadata": {},
     "output_type": "display_data"
    }
   ],
   "source": [
    "from dask.distributed import Client, progress\n",
    "\n",
    "from dask_kubernetes import KubeCluster\n",
    "cluster = KubeCluster(n_workers=20)\n",
    "cluster"
   ]
  },
  {
   "cell_type": "code",
   "execution_count": 16,
   "metadata": {},
   "outputs": [],
   "source": [
    "import sys, glob\n",
    "import numpy as np\n",
    "import xarray as xr\n",
    "import time\n",
    "import zarr\n",
    "import matplotlib.pyplot as plt\n"
   ]
  },
  {
   "cell_type": "code",
   "execution_count": 17,
   "metadata": {},
   "outputs": [],
   "source": [
    "import gcsfs\n",
    "fs = gcsfs.GCSFileSystem('pangeo-181919', requester_pays=True)\n"
   ]
  },
  {
   "cell_type": "code",
   "execution_count": 18,
   "metadata": {},
   "outputs": [],
   "source": [
    "def check_zarr(zarrdir,var,sort):\n",
    "    print(zarrdir)\n",
    "    zmap = fs.get_mapper('pangeo-meom/'+zarrdir)\n",
    "    ds = xr.open_zarr(zmap)\n",
    "    print(str(np.around(ds[var].nbytes/1e9))+ ' GB of data')\n",
    "    if sort == 'True':\n",
    "        ds_sorted=ds.sortby('time_counter')\n",
    "        fig=plt.figure(figsize=(15,12))\n",
    "        ds_sorted[var][0].plot()\n",
    "        fig=plt.figure(figsize=(15,5))\n",
    "        ds_sorted[var][:,3000,4000].plot()\n",
    "    else:\n",
    "        fig=plt.figure(figsize=(15,12))\n",
    "        ds[var][0].plot()\n",
    "        fig=plt.figure(figsize=(15,5))\n",
    "        ds[var][:,3000,4000].plot()\n",
    "            "
   ]
  },
  {
   "cell_type": "raw",
   "metadata": {},
   "source": [
    "check_zarr('NATL60-CJM165-SSH-1h-1m2deg2deg','sossheig','True')"
   ]
  },
  {
   "cell_type": "raw",
   "metadata": {},
   "source": [
    "check_zarr('NATL60-CJM165-SSH-1h-2D','sossheig','False')"
   ]
  },
  {
   "cell_type": "raw",
   "metadata": {},
   "source": [
    "check_zarr('NATL60-CJM165-SSU-1h-1m2deg2deg','vozocrtx','False')"
   ]
  },
  {
   "cell_type": "raw",
   "metadata": {},
   "source": [
    "check_zarr('NATL60-CJM165-SSV-1h-1m2deg2deg','vomecrty','False')"
   ]
  },
  {
   "cell_type": "raw",
   "metadata": {},
   "source": [
    "check_zarr('eNATL60-BLB002-SSU-1h','sozocrtx','False')"
   ]
  },
  {
   "cell_type": "raw",
   "metadata": {},
   "source": [
    "check_zarr('eNATL60-BLB002-SSV-1h','somecrty','False')"
   ]
  },
  {
   "cell_type": "raw",
   "metadata": {},
   "source": [
    "check_zarr('eNATL60-BLBT02-SSU-1h','sozocrtx','False')"
   ]
  },
  {
   "cell_type": "raw",
   "metadata": {},
   "source": [
    "check_zarr('eNATL60-BLBT02-SSV-1h','somecrty','False')"
   ]
  },
  {
   "cell_type": "raw",
   "metadata": {},
   "source": [
    "check_zarr('eNATL60-BLBT02-SSH-1h','sossheig','True')"
   ]
  },
  {
   "cell_type": "code",
   "execution_count": null,
   "metadata": {},
   "outputs": [],
   "source": [
    "cluster.close()"
   ]
  },
  {
   "cell_type": "code",
   "execution_count": null,
   "metadata": {},
   "outputs": [],
   "source": []
  },
  {
   "cell_type": "code",
   "execution_count": null,
   "metadata": {},
   "outputs": [],
   "source": []
  }
 ],
 "metadata": {
  "kernelspec": {
   "display_name": "Python 3",
   "language": "python",
   "name": "python3"
  },
  "language_info": {
   "codemirror_mode": {
    "name": "ipython",
    "version": 3
   },
   "file_extension": ".py",
   "mimetype": "text/x-python",
   "name": "python",
   "nbconvert_exporter": "python",
   "pygments_lexer": "ipython3",
   "version": "3.7.3"
  }
 },
 "nbformat": 4,
 "nbformat_minor": 4
}
