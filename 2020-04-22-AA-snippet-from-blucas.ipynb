{
 "cells": [
  {
   "cell_type": "code",
   "execution_count": null,
   "metadata": {},
   "outputs": [
    {
     "name": "stdout",
     "output_type": "stream",
     "text": [
      "pangeo-meom/NATL60-CJM165-SSH-1h-1m2deg2deg\n",
      "pangeo-meom/NATL60-CJM165-SSH-1h-2D\n",
      "pangeo-meom/NATL60-CJM165-SSU-1h-1m2deg2deg\n",
      "pangeo-meom/NATL60-CJM165-SSV-1h-1m2deg2deg\n",
      "failure to open pangeo-meom/NATL60-I\n",
      "pangeo-meom/eNATL60-BLB002-SSU-1h\n",
      "pangeo-meom/eNATL60-BLBT02-SSH-1h\n"
     ]
    }
   ],
   "source": [
    "import xarray as xr\n",
    "import gcsfs\n",
    "\n",
    "fs = gcsfs.GCSFileSystem('pangeo-181919', requester_pays=True)\n",
    "\n",
    "dsets = {}\n",
    "\n",
    "for path in fs.ls('pangeo-meom'):\n",
    "    try:\n",
    "        zmap = fs.get_mapper(path)\n",
    "        ds = xr.open_zarr(zmap)\n",
    "        dsets[path] = ds\n",
    "        print(path)\n",
    "    except ValueError:\n",
    "        print(f'failure to open {path}')"
   ]
  },
  {
   "cell_type": "code",
   "execution_count": 1,
   "metadata": {},
   "outputs": [],
   "source": [
    "import xarray as xr\n",
    "import gcsfs\n",
    "\n",
    "fs = gcsfs.GCSFileSystem('pangeo-181919', requester_pays=True)\n"
   ]
  },
  {
   "cell_type": "code",
   "execution_count": 2,
   "metadata": {},
   "outputs": [
    {
     "data": {
      "text/plain": [
       "['pangeo-meom/NATL60-CJM165-SSH-1h-1m2deg2deg',\n",
       " 'pangeo-meom/NATL60-CJM165-SSH-1h-2D',\n",
       " 'pangeo-meom/NATL60-CJM165-SSU-1h-1m2deg2deg',\n",
       " 'pangeo-meom/NATL60-CJM165-SSV-1h-1m2deg2deg',\n",
       " 'pangeo-meom/NATL60-I',\n",
       " 'pangeo-meom/eNATL60-BLB002-SSU-1h',\n",
       " 'pangeo-meom/eNATL60-BLBT02-SSH-1h',\n",
       " 'pangeo-meom/eNATL60-BLBT02-SSU-1h',\n",
       " 'pangeo-meom/eNATL60-BLBT02-SSV-1h',\n",
       " 'pangeo-meom/eNATL60-I']"
      ]
     },
     "execution_count": 2,
     "metadata": {},
     "output_type": "execute_result"
    }
   ],
   "source": [
    "fs.ls('pangeo-meom')"
   ]
  },
  {
   "cell_type": "code",
   "execution_count": 4,
   "metadata": {},
   "outputs": [
    {
     "name": "stdout",
     "output_type": "stream",
     "text": [
      "pangeo-meom/eNATL60-BLBT02-SSU-1h\n",
      "pangeo-meom/eNATL60-BLBT02-SSV-1h\n",
      "failure to open pangeo-meom/eNATL60-I\n"
     ]
    }
   ],
   "source": [
    "dsets = {}\n",
    "for path in ['pangeo-meom/eNATL60-BLBT02-SSU-1h',\n",
    " 'pangeo-meom/eNATL60-BLBT02-SSV-1h',\n",
    " 'pangeo-meom/eNATL60-I']:\n",
    "    try:\n",
    "        zmap = fs.get_mapper(path)\n",
    "        ds = xr.open_zarr(zmap)\n",
    "        dsets[path] = ds\n",
    "        print(path)\n",
    "    except ValueError:\n",
    "        print(f'failure to open {path}')"
   ]
  },
  {
   "cell_type": "code",
   "execution_count": null,
   "metadata": {},
   "outputs": [],
   "source": []
  }
 ],
 "metadata": {
  "kernelspec": {
   "display_name": "Python 3",
   "language": "python",
   "name": "python3"
  },
  "language_info": {
   "codemirror_mode": {
    "name": "ipython",
    "version": 3
   },
   "file_extension": ".py",
   "mimetype": "text/x-python",
   "name": "python",
   "nbconvert_exporter": "python",
   "pygments_lexer": "ipython3",
   "version": "3.7.3"
  }
 },
 "nbformat": 4,
 "nbformat_minor": 4
}
